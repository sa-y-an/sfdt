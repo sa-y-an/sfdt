{
  "nbformat": 4,
  "nbformat_minor": 0,
  "metadata": {
    "colab": {
      "name": "SSD_Tf_wf.ipynb",
      "provenance": []
    },
    "kernelspec": {
      "name": "python3",
      "display_name": "Python 3"
    },
    "language_info": {
      "name": "python"
    },
    "accelerator": "GPU"
  },
  "cells": [
    {
      "cell_type": "code",
      "metadata": {
        "colab": {
          "base_uri": "https://localhost:8080/"
        },
        "id": "l_AoJjhivoS2",
        "outputId": "5d1d782e-0e37-4764-abd1-ee483d2901c4"
      },
      "source": [
        "!git clone https://github.com/sa-y-an/sfdt.git"
      ],
      "execution_count": 1,
      "outputs": [
        {
          "output_type": "stream",
          "text": [
            "Cloning into 'sfdt'...\n",
            "remote: Enumerating objects: 18, done.\u001b[K\n",
            "remote: Counting objects: 100% (18/18), done.\u001b[K\n",
            "remote: Compressing objects: 100% (17/17), done.\u001b[K\n",
            "remote: Total 18 (delta 1), reused 18 (delta 1), pack-reused 0\u001b[K\n",
            "Unpacking objects: 100% (18/18), done.\n"
          ],
          "name": "stdout"
        }
      ]
    },
    {
      "cell_type": "code",
      "metadata": {
        "colab": {
          "base_uri": "https://localhost:8080/"
        },
        "id": "lm-u83XcwD2K",
        "outputId": "72ebcbd0-77e8-4a77-eeca-fce9b05993dc"
      },
      "source": [
        "!ls"
      ],
      "execution_count": 2,
      "outputs": [
        {
          "output_type": "stream",
          "text": [
            "sample_data  sfdt\n"
          ],
          "name": "stdout"
        }
      ]
    },
    {
      "cell_type": "code",
      "metadata": {
        "colab": {
          "base_uri": "https://localhost:8080/"
        },
        "id": "piRZzy2EwOiK",
        "outputId": "7eaffc0a-8cae-4769-b529-8101f19ab6fe"
      },
      "source": [
        "cd sfdt"
      ],
      "execution_count": 3,
      "outputs": [
        {
          "output_type": "stream",
          "text": [
            "/content/sfdt\n"
          ],
          "name": "stdout"
        }
      ]
    },
    {
      "cell_type": "code",
      "metadata": {
        "colab": {
          "base_uri": "https://localhost:8080/"
        },
        "id": "lnxzzFTqwSDh",
        "outputId": "c108d29a-2249-4d74-a777-1a04e8422260"
      },
      "source": [
        "!ls"
      ],
      "execution_count": 4,
      "outputs": [
        {
          "output_type": "stream",
          "text": [
            "dataset\t\t\t\tmn_model.py\n",
            "face_generator.py\t\tREADME.md\n",
            "keras_layer_AnchorBoxes.py\tssd_box_encode_decode_utils.py\n",
            "keras_layer_L2Normalization.py\twider_extract.py\n",
            "keras_ssd_loss.py\n"
          ],
          "name": "stdout"
        }
      ]
    },
    {
      "cell_type": "code",
      "metadata": {
        "colab": {
          "base_uri": "https://localhost:8080/"
        },
        "id": "T9fXEXiOwTMS",
        "outputId": "a3057478-7531-4fac-d5ca-26aa2e777319"
      },
      "source": [
        "cd dataset/"
      ],
      "execution_count": 5,
      "outputs": [
        {
          "output_type": "stream",
          "text": [
            "/content/sfdt/dataset\n"
          ],
          "name": "stdout"
        }
      ]
    },
    {
      "cell_type": "markdown",
      "metadata": {
        "id": "ln4y9KQ6oBEj"
      },
      "source": [
        "# Downloading Dataset"
      ]
    },
    {
      "cell_type": "markdown",
      "metadata": {
        "id": "GMpSnvspoXQL"
      },
      "source": [
        "Test data"
      ]
    },
    {
      "cell_type": "code",
      "metadata": {
        "colab": {
          "base_uri": "https://localhost:8080/"
        },
        "id": "URf0-iogwsbQ",
        "outputId": "e9fc2682-e36b-47aa-9593-f692110ecd06"
      },
      "source": [
        "!gdown --id 0B6eKvaijfFUDQUUwd21EckhUbWs"
      ],
      "execution_count": 6,
      "outputs": [
        {
          "output_type": "stream",
          "text": [
            "Downloading...\n",
            "From: https://drive.google.com/uc?id=0B6eKvaijfFUDQUUwd21EckhUbWs\n",
            "To: /content/sfdt/dataset/WIDER_train.zip\n",
            "1.47GB [00:16, 88.5MB/s]\n"
          ],
          "name": "stdout"
        }
      ]
    },
    {
      "cell_type": "code",
      "metadata": {
        "id": "MZugzAR7wvrU"
      },
      "source": [
        "!unzip -q WIDER_train.zip"
      ],
      "execution_count": 7,
      "outputs": []
    },
    {
      "cell_type": "markdown",
      "metadata": {
        "id": "pkE0rW4TobF0"
      },
      "source": [
        "Validation data"
      ]
    },
    {
      "cell_type": "code",
      "metadata": {
        "colab": {
          "base_uri": "https://localhost:8080/"
        },
        "id": "OsulehNu0l_m",
        "outputId": "8e217540-a5ac-4154-8b30-fb9a125878f5"
      },
      "source": [
        "!gdown --id 0B6eKvaijfFUDd3dIRmpvSk8tLUk"
      ],
      "execution_count": 9,
      "outputs": [
        {
          "output_type": "stream",
          "text": [
            "Downloading...\n",
            "From: https://drive.google.com/uc?id=0B6eKvaijfFUDd3dIRmpvSk8tLUk\n",
            "To: /content/sfdt/dataset/WIDER_val.zip\n",
            "363MB [00:02, 174MB/s]\n"
          ],
          "name": "stdout"
        }
      ]
    },
    {
      "cell_type": "code",
      "metadata": {
        "id": "YTz72FJG0yD1"
      },
      "source": [
        "!unzip -q WIDER_val.zip"
      ],
      "execution_count": 10,
      "outputs": []
    },
    {
      "cell_type": "code",
      "metadata": {
        "colab": {
          "base_uri": "https://localhost:8080/"
        },
        "id": "C3pGseGMx9gQ",
        "outputId": "00e22424-fdd0-4662-b274-704c029cc83c"
      },
      "source": [
        "cd .."
      ],
      "execution_count": 11,
      "outputs": [
        {
          "output_type": "stream",
          "text": [
            "/content/sfdt\n"
          ],
          "name": "stdout"
        }
      ]
    },
    {
      "cell_type": "markdown",
      "metadata": {
        "id": "Xiv6bq--oGYU"
      },
      "source": [
        "# Main Code Starts Here"
      ]
    },
    {
      "cell_type": "code",
      "metadata": {
        "id": "P9JchuznxSKv"
      },
      "source": [
        "import warnings\n",
        "warnings.filterwarnings(\"ignore\")\n",
        "\n",
        "from tensorflow.keras.optimizers import Adam, SGD, Nadam\n",
        "from tensorflow.keras.callbacks import ModelCheckpoint, EarlyStopping, ReduceLROnPlateau, TensorBoard, LearningRateScheduler\n",
        "from tensorflow.keras.callbacks import Callback\n",
        "from tensorflow.keras import backend as K \n",
        "from tensorflow.keras.models import load_model\n",
        "from math import ceil \n",
        "import numpy as np \n",
        "from termcolor import colored\n",
        "\n",
        "from mn_model import mn_model\n",
        "from face_generator import BatchGenerator\n",
        "from keras_ssd_loss import SSDLoss\n",
        "from ssd_box_encode_decode_utils import SSDBoxEncoder, decode_y, decode_y2\n",
        "\n",
        "import scipy.misc as sm\n",
        "import os\n",
        "os.environ['CUDA_VISIBLE_DEVICES'] = '0' # choose gpu"
      ],
      "execution_count": 12,
      "outputs": []
    },
    {
      "cell_type": "code",
      "metadata": {
        "id": "UnM-z0Ghx5oa"
      },
      "source": [
        "img_height = 512\n",
        "img_width = 512\n",
        "img_channels = 3\n",
        "\n",
        "n_classes = 2 \n",
        "class_names = [\"background\",\"face\"]\n",
        "\n",
        "scales = [0.07, 0.15, 0.33, 0.51, 0.69, 0.87, 1.05] # anchorboxes for coco dataset\n",
        "aspect_ratios = [[0.5, 1.0, 2.0],\n",
        "                 [1.0/3.0, 0.5, 1.0, 2.0, 3.0],\n",
        "                 [1.0/3.0, 0.5, 1.0, 2.0, 3.0],\n",
        "                 [1.0/3.0, 0.5, 1.0, 2.0, 3.0],\n",
        "                 [0.5, 1.0, 2.0],\n",
        "                 [0.5, 1.0, 2.0]] # The anchor box aspect ratios used in the original SSD300\n",
        "two_boxes_for_ar1 = True\n",
        "limit_boxes = False # Whether or not you want to limit the anchor boxes to lie entirely within the image boundaries\n",
        "variances = [0.1, 0.1, 0.2, 0.2] # The variances by which the encoded target coordinates are scaled as in the original implementation\n",
        "coords = 'centroids' # Whether the box coordinates to be used as targets for the model should be in the 'centroids' or 'minmax' format, see documentation\n",
        "normalize_coords = True\n",
        "\n",
        "data_path = 'dataset/'\n",
        "det_model_path = \"./models/\" \n",
        "train_data = data_path + 'wider_train_small.npy'\n",
        "test_data = data_path + 'wider_val_small.npy'\n"
      ],
      "execution_count": 13,
      "outputs": []
    },
    {
      "cell_type": "code",
      "metadata": {
        "colab": {
          "base_uri": "https://localhost:8080/"
        },
        "id": "w770X31lzCgF",
        "outputId": "ad098ee4-5089-400a-db6c-fc588024d427"
      },
      "source": [
        "# downloading the base model (Used Mobile Net V1 for Faster Training)\n",
        "!gdown --id 1Wor0430SL7-_NRxGHTVBZJ21JlGdJoOq"
      ],
      "execution_count": 14,
      "outputs": [
        {
          "output_type": "stream",
          "text": [
            "Downloading...\n",
            "From: https://drive.google.com/uc?id=1Wor0430SL7-_NRxGHTVBZJ21JlGdJoOq\n",
            "To: /content/sfdt/mobilenet_1_0_224_tf.h5\n",
            "17.2MB [00:00, 53.5MB/s]\n"
          ],
          "name": "stdout"
        }
      ]
    },
    {
      "cell_type": "code",
      "metadata": {
        "colab": {
          "base_uri": "https://localhost:8080/"
        },
        "id": "mEiT7Ny0rx4I",
        "outputId": "5ba2e19f-fbe6-456b-fb89-d245a75eae34"
      },
      "source": [
        "!ls"
      ],
      "execution_count": 18,
      "outputs": [
        {
          "output_type": "stream",
          "text": [
            "dataset\t\t\t\tmobilenet_1_0_224_tf.h5\n",
            "face_generator.py\t\t__pycache__\n",
            "keras_layer_AnchorBoxes.py\tREADME.md\n",
            "keras_layer_L2Normalization.py\tssd_box_encode_decode_utils.py\n",
            "keras_ssd_loss.py\t\twider_extract.py\n",
            "mn_model.py\n"
          ],
          "name": "stdout"
        }
      ]
    },
    {
      "cell_type": "code",
      "metadata": {
        "id": "WReHu69Krzno"
      },
      "source": [
        "mkdir models"
      ],
      "execution_count": 19,
      "outputs": []
    },
    {
      "cell_type": "code",
      "metadata": {
        "colab": {
          "base_uri": "https://localhost:8080/"
        },
        "id": "VKzXjilvr3FQ",
        "outputId": "36a61775-c79a-470d-c31a-7d25b4960e0e"
      },
      "source": [
        "!ls"
      ],
      "execution_count": 20,
      "outputs": [
        {
          "output_type": "stream",
          "text": [
            "dataset\t\t\t\tmobilenet_1_0_224_tf.h5\n",
            "face_generator.py\t\tmodels\n",
            "keras_layer_AnchorBoxes.py\t__pycache__\n",
            "keras_layer_L2Normalization.py\tREADME.md\n",
            "keras_ssd_loss.py\t\tssd_box_encode_decode_utils.py\n",
            "mn_model.py\t\t\twider_extract.py\n"
          ],
          "name": "stdout"
        }
      ]
    },
    {
      "cell_type": "code",
      "metadata": {
        "colab": {
          "base_uri": "https://localhost:8080/"
        },
        "id": "aW5Ept2WyB39",
        "outputId": "61ac414f-e87c-483c-f995-1ff9e49545b9"
      },
      "source": [
        "# build the keras model\n",
        "# this model is not retrained, we are doing it from scratch \n",
        "\n",
        "model, model_layer, img_input, predictor_sizes = mn_model(image_size=(img_height, img_width, img_channels), \n",
        "                                                                      n_classes = n_classes,\n",
        "                                                                      min_scale = None, \n",
        "                                                                      max_scale = None, \n",
        "                                                                      scales = scales, \n",
        "                                                                      aspect_ratios_global = None, \n",
        "                                                                      aspect_ratios_per_layer = aspect_ratios, \n",
        "                                                                      two_boxes_for_ar1= two_boxes_for_ar1, \n",
        "                                                                      limit_boxes=limit_boxes, \n",
        "                                                                      variances= variances, \n",
        "                                                                      coords=coords, \n",
        "                                                                      normalize_coords=normalize_coords)\n",
        "\n",
        "#model.summary()\n",
        "\n",
        "print (\"Freezing classification layers\")\n",
        "#Freeze layers\n",
        "for layer_key in model_layer:\n",
        "  if('detection'  not in layer_key): #prefix detection to freeze layers which does not have detection\n",
        "    model_layer[layer_key].trainable = False\n",
        "print (colored(\"classification layers freezed\", 'green'))\n",
        "\n",
        "# for layer in model.layers:\n",
        "#   print (colored(layer.name, 'blue'))\n",
        "#   print (colored(layer.trainable, 'green'))\n",
        "\n",
        "print (\"loading classification weights\")\n",
        "classification_model = 'mobilenet_1_0_224_tf.h5'\n",
        "model.load_weights(classification_model,  by_name= True)\n",
        "\n",
        "print (colored( ('classification weights %s loaded' % classification_model), 'green'))"
      ],
      "execution_count": 21,
      "outputs": [
        {
          "output_type": "stream",
          "text": [
            "Height, Width, Channels : 512 512 3\n",
            "WARNING:tensorflow:\n",
            "The following Variables were used a Lambda layer's call (tf.math.multiply_1), but\n",
            "are not present in its tracked objects:\n",
            "  <tf.Variable 'detection_conv4_3_norm/detection_conv4_3_norm_gamma:0' shape=(512,) dtype=float32>\n",
            "It is possible that this is intended behavior, but it is more likely\n",
            "an omission. This is a strong indication that this layer should be\n",
            "formulated as a subclassed Layer rather than a Lambda layer.\n",
            "Freezing classification layers\n",
            "\u001b[32mclassification layers freezed\u001b[0m\n",
            "loading classification weights\n",
            "\u001b[32mclassification weights mobilenet_1_0_224_tf.h5 loaded\u001b[0m\n"
          ],
          "name": "stdout"
        }
      ]
    },
    {
      "cell_type": "code",
      "metadata": {
        "colab": {
          "base_uri": "https://localhost:8080/"
        },
        "id": "mgHBLB56yGr8",
        "outputId": "df63b1bc-d255-45ba-927e-012d155042f0"
      },
      "source": [
        "# setting up taining \n",
        "\n",
        "batch_size = 64\n",
        "num_epochs = 100\n",
        "\n",
        "#Adam\n",
        "base_lr = 0.002\n",
        "adam = Adam(lr=base_lr, beta_1=0.9, beta_2=0.999, epsilon=1e-6, decay = 0.0)\n",
        "ssd_loss = SSDLoss(neg_pos_ratio=2, n_neg_min=0, alpha=1.0, beta = 1.0)\n",
        "model.compile(optimizer=adam, loss=ssd_loss.compute_loss)\n",
        "\n",
        "\n",
        "ssd_box_encoder = SSDBoxEncoder(img_height=img_height,\n",
        "                                img_width=img_width,\n",
        "                                n_classes=n_classes, \n",
        "                                predictor_sizes=predictor_sizes,\n",
        "                                min_scale=None,\n",
        "                                max_scale=None,\n",
        "                                scales=scales,\n",
        "                                aspect_ratios_global=None,\n",
        "                                aspect_ratios_per_layer=aspect_ratios,\n",
        "                                two_boxes_for_ar1=two_boxes_for_ar1,\n",
        "                                limit_boxes=limit_boxes,\n",
        "                                variances=variances,\n",
        "                                pos_iou_threshold=0.5,\n",
        "                                neg_iou_threshold=0.2,\n",
        "                                coords=coords,\n",
        "                                normalize_coords=normalize_coords)\n",
        "\n",
        "train_dataset = BatchGenerator(images_path=train_data, \n",
        "                               include_classes='all', \n",
        "                               box_output_format = ['class_id', 'xmin', 'xmax', 'ymin', 'ymax'])\n",
        "\n",
        "print (\"TRAINING DATA\")\n",
        "\n",
        "train_dataset.parse_xml(\n",
        "                  annotations_path=train_data,\n",
        "                  image_set_path=data_path,\n",
        "                  image_set='None',\n",
        "                  classes = class_names, \n",
        "                  exclude_truncated=False,\n",
        "                  exclude_difficult=False,\n",
        "                  ret=False, \n",
        "                  debug = False)\n",
        "\n",
        "train_generator = train_dataset.generate(\n",
        "                 batch_size=batch_size,\n",
        "                 train=True,\n",
        "                 ssd_box_encoder=ssd_box_encoder,\n",
        "                 equalize=True,\n",
        "                 brightness=(0.5,2,0.5),\n",
        "                 flip=0.5,\n",
        "                 translate=((0, 20), (0, 30), 0.5),\n",
        "                 scale=(0.75, 1.2, 0.5),\n",
        "                 crop=False,\n",
        "                 #random_crop = (img_height,img_width,1,3), \n",
        "                 random_crop=False,\n",
        "                 resize=(img_height, img_width),\n",
        "                 #resize=False,\n",
        "                 gray=False,\n",
        "                 limit_boxes=True,\n",
        "                 include_thresh=0.4,\n",
        "                 diagnostics=False)\n",
        "\n",
        "n_train_samples = train_dataset.get_n_samples()\n",
        "\n",
        "print (\"Total number of training samples = {}\".format(n_train_samples))\n",
        "\n",
        "\n",
        "print (\"VALIDATION DATA\")\n",
        "\n",
        "val_dataset = BatchGenerator(images_path=test_data, include_classes='all', \n",
        "                box_output_format = ['class_id', 'xmin', 'xmax', 'ymin', 'ymax'])\n",
        "\n",
        "\n",
        "val_dataset.parse_xml(\n",
        "                  annotations_path=test_data,\n",
        "                  image_set_path=data_path,\n",
        "                  image_set='None',\n",
        "                  classes = class_names, \n",
        "                  exclude_truncated=False,\n",
        "                  exclude_difficult=False,\n",
        "                  ret=False, \n",
        "                  debug = False)\n",
        "\n",
        "\n",
        "val_generator = val_dataset.generate(\n",
        "                 batch_size=batch_size,\n",
        "                 train=True,\n",
        "                 ssd_box_encoder=ssd_box_encoder,\n",
        "                 equalize=False,\n",
        "                 brightness=False,\n",
        "                 flip=False,\n",
        "                 translate=False,\n",
        "                 scale=False,\n",
        "                 crop=False,\n",
        "                 #random_crop = (img_height,img_width,1,3), \n",
        "                 random_crop=False, \n",
        "                 resize=(img_height, img_width), \n",
        "                 #resize=False, \n",
        "                 gray=False,\n",
        "                 limit_boxes=True,\n",
        "                 include_thresh=0.4,\n",
        "                 diagnostics=False)\n",
        "\n",
        "n_val_samples = val_dataset.get_n_samples()\n",
        "\n",
        "print (\"Total number of validation samples = {}\".format(n_val_samples))"
      ],
      "execution_count": 33,
      "outputs": [
        {
          "output_type": "stream",
          "text": [
            "TRAINING DATA\n",
            "Total number of training samples = 128\n",
            "VALIDATION DATA\n",
            "Total number of validation samples = 60\n"
          ],
          "name": "stdout"
        }
      ]
    },
    {
      "cell_type": "code",
      "metadata": {
        "colab": {
          "base_uri": "https://localhost:8080/"
        },
        "id": "FPEQHBdKzZZf",
        "outputId": "e2710887-1b0a-4b19-9dd4-8d7b9f4f464c"
      },
      "source": [
        "# now start the training \n",
        "\n",
        "def scheduler(epoch):\n",
        "  if epoch%10==0 and epoch!=0:\n",
        "    lr = K.get_value(model.optimizer.lr)\n",
        "    K.set_value(model.optimizer.lr, lr*.95)\n",
        "    print(\"lr changed to {}\".format(lr*.95))\n",
        "  else: \n",
        "    print(\"lr remains {}\".format(K.get_value(model.optimizer.lr)))\n",
        "\n",
        "  return K.get_value(model.optimizer.lr)\n",
        "\n",
        "lr_schedule = LearningRateScheduler(scheduler)\n",
        "\n",
        "plateau = ReduceLROnPlateau(monitor='val_loss', factor = 0.3, patience =4, epsilon=0.001, cooldown=0)\n",
        "tensorboard = TensorBoard(log_dir='./logs/trial1/', histogram_freq=1, batch_size=16, write_graph=True, write_grads=True, \n",
        "                          write_images=True, embeddings_freq=0, embeddings_layer_names=None, embeddings_metadata=None)\n",
        "early_stopping = EarlyStopping(monitor='val_loss', min_delta=0.001, patience=100)\n",
        "model_checkpoint =  ModelCheckpoint(det_model_path + 'ssd_mobilenet_face_epoch_{epoch:02d}_loss{val_loss:.4f}.h5',\n",
        "                                                           monitor='val_loss',\n",
        "                                                           verbose=1,\n",
        "                                                           save_best_only=True,\n",
        "                                                           save_weights_only=True,\n",
        "                                                           mode='auto',\n",
        "                                                           period=1)\n",
        "\n",
        "\n",
        "history = model.fit_generator(generator = train_generator,\n",
        "                              steps_per_epoch = ceil(n_train_samples/batch_size)*2,\n",
        "                              epochs = num_epochs,\n",
        "                              callbacks = [model_checkpoint, lr_schedule, early_stopping],                      \n",
        "                              validation_data = val_generator,\n",
        "                              validation_steps = ceil(n_val_samples/batch_size))\n",
        "\n",
        "model.save_weights(det_model_path + 'ssd_mobilenet_weights_epoch_{}.h5'.format(num_epochs))\n",
        "\n",
        "print (\"model and weight files saved at : \" + det_model_path)"
      ],
      "execution_count": 34,
      "outputs": [
        {
          "output_type": "stream",
          "text": [
            "WARNING:tensorflow:`epsilon` argument is deprecated and will be removed, use `min_delta` instead.\n",
            "WARNING:tensorflow:`write_grads` will be ignored in TensorFlow 2.0 for the `TensorBoard` Callback.\n",
            "WARNING:tensorflow:`batch_size` is no longer needed in the `TensorBoard` Callback and will be ignored in TensorFlow 2.0.\n",
            "WARNING:tensorflow:`period` argument is deprecated. Please use `save_freq` to specify the frequency in number of batches seen.\n",
            "Epoch 1/100\n",
            "lr remains 0.0020000000949949026\n",
            "4/4 [==============================] - 22s 5s/step - loss: 0.1240 - val_loss: 0.1293\n",
            "\n",
            "Epoch 00001: val_loss improved from inf to 0.12927, saving model to ./models/ssd_mobilenet_face_epoch_01_loss0.1293.h5\n",
            "Epoch 2/100\n",
            "lr remains 0.0020000000949949026\n",
            "4/4 [==============================] - 14s 4s/step - loss: 0.1179 - val_loss: 0.1290\n",
            "\n",
            "Epoch 00002: val_loss improved from 0.12927 to 0.12902, saving model to ./models/ssd_mobilenet_face_epoch_02_loss0.1290.h5\n",
            "Epoch 3/100\n",
            "lr remains 0.0020000000949949026\n",
            "4/4 [==============================] - 14s 4s/step - loss: 0.1179 - val_loss: 0.1285\n",
            "\n",
            "Epoch 00003: val_loss improved from 0.12902 to 0.12855, saving model to ./models/ssd_mobilenet_face_epoch_03_loss0.1285.h5\n",
            "Epoch 4/100\n",
            "lr remains 0.0020000000949949026\n",
            "4/4 [==============================] - 14s 4s/step - loss: 0.1131 - val_loss: 0.1279\n",
            "\n",
            "Epoch 00004: val_loss improved from 0.12855 to 0.12786, saving model to ./models/ssd_mobilenet_face_epoch_04_loss0.1279.h5\n",
            "Epoch 5/100\n",
            "lr remains 0.0020000000949949026\n",
            "4/4 [==============================] - 14s 4s/step - loss: 0.1133 - val_loss: 0.1271\n",
            "\n",
            "Epoch 00005: val_loss improved from 0.12786 to 0.12711, saving model to ./models/ssd_mobilenet_face_epoch_05_loss0.1271.h5\n",
            "Epoch 6/100\n",
            "lr remains 0.0020000000949949026\n",
            "4/4 [==============================] - 14s 4s/step - loss: 0.1081 - val_loss: 0.1265\n",
            "\n",
            "Epoch 00006: val_loss improved from 0.12711 to 0.12645, saving model to ./models/ssd_mobilenet_face_epoch_06_loss0.1265.h5\n",
            "Epoch 7/100\n",
            "lr remains 0.0020000000949949026\n",
            "4/4 [==============================] - 14s 4s/step - loss: 0.1091 - val_loss: 0.1258\n",
            "\n",
            "Epoch 00007: val_loss improved from 0.12645 to 0.12580, saving model to ./models/ssd_mobilenet_face_epoch_07_loss0.1258.h5\n",
            "Epoch 8/100\n",
            "lr remains 0.0020000000949949026\n",
            "4/4 [==============================] - 14s 4s/step - loss: 0.1059 - val_loss: 0.1251\n",
            "\n",
            "Epoch 00008: val_loss improved from 0.12580 to 0.12510, saving model to ./models/ssd_mobilenet_face_epoch_08_loss0.1251.h5\n",
            "Epoch 9/100\n",
            "lr remains 0.0020000000949949026\n",
            "4/4 [==============================] - 14s 4s/step - loss: 0.1072 - val_loss: 0.1244\n",
            "\n",
            "Epoch 00009: val_loss improved from 0.12510 to 0.12445, saving model to ./models/ssd_mobilenet_face_epoch_09_loss0.1244.h5\n",
            "Epoch 10/100\n",
            "lr remains 0.0020000000949949026\n",
            "4/4 [==============================] - 14s 4s/step - loss: 0.1076 - val_loss: 0.1239\n",
            "\n",
            "Epoch 00010: val_loss improved from 0.12445 to 0.12386, saving model to ./models/ssd_mobilenet_face_epoch_10_loss0.1239.h5\n",
            "Epoch 11/100\n",
            "lr changed to 0.0019000000902451575\n",
            "4/4 [==============================] - 14s 4s/step - loss: 0.1093 - val_loss: 0.1233\n",
            "\n",
            "Epoch 00011: val_loss improved from 0.12386 to 0.12328, saving model to ./models/ssd_mobilenet_face_epoch_11_loss0.1233.h5\n",
            "Epoch 12/100\n",
            "lr remains 0.0019000000320374966\n",
            "4/4 [==============================] - 14s 4s/step - loss: 0.1047 - val_loss: 0.1227\n",
            "\n",
            "Epoch 00012: val_loss improved from 0.12328 to 0.12268, saving model to ./models/ssd_mobilenet_face_epoch_12_loss0.1227.h5\n",
            "Epoch 13/100\n",
            "lr remains 0.0019000000320374966\n",
            "4/4 [==============================] - 14s 4s/step - loss: 0.1045 - val_loss: 0.1221\n",
            "\n",
            "Epoch 00013: val_loss improved from 0.12268 to 0.12212, saving model to ./models/ssd_mobilenet_face_epoch_13_loss0.1221.h5\n",
            "Epoch 14/100\n",
            "lr remains 0.0019000000320374966\n",
            "4/4 [==============================] - 14s 5s/step - loss: 0.1067 - val_loss: 0.1217\n",
            "\n",
            "Epoch 00014: val_loss improved from 0.12212 to 0.12165, saving model to ./models/ssd_mobilenet_face_epoch_14_loss0.1217.h5\n",
            "Epoch 15/100\n",
            "lr remains 0.0019000000320374966\n",
            "4/4 [==============================] - 14s 4s/step - loss: 0.1040 - val_loss: 0.1213\n",
            "\n",
            "Epoch 00015: val_loss improved from 0.12165 to 0.12125, saving model to ./models/ssd_mobilenet_face_epoch_15_loss0.1213.h5\n",
            "Epoch 16/100\n",
            "lr remains 0.0019000000320374966\n",
            "4/4 [==============================] - 14s 4s/step - loss: 0.1062 - val_loss: 0.1208\n",
            "\n",
            "Epoch 00016: val_loss improved from 0.12125 to 0.12079, saving model to ./models/ssd_mobilenet_face_epoch_16_loss0.1208.h5\n",
            "Epoch 17/100\n",
            "lr remains 0.0019000000320374966\n",
            "4/4 [==============================] - 14s 4s/step - loss: 0.1038 - val_loss: 0.1204\n",
            "\n",
            "Epoch 00017: val_loss improved from 0.12079 to 0.12035, saving model to ./models/ssd_mobilenet_face_epoch_17_loss0.1204.h5\n",
            "Epoch 18/100\n",
            "lr remains 0.0019000000320374966\n",
            "4/4 [==============================] - 14s 4s/step - loss: 0.1050 - val_loss: 0.1200\n",
            "\n",
            "Epoch 00018: val_loss improved from 0.12035 to 0.11997, saving model to ./models/ssd_mobilenet_face_epoch_18_loss0.1200.h5\n",
            "Epoch 19/100\n",
            "lr remains 0.0019000000320374966\n",
            "4/4 [==============================] - 14s 4s/step - loss: 0.1019 - val_loss: 0.1197\n",
            "\n",
            "Epoch 00019: val_loss improved from 0.11997 to 0.11969, saving model to ./models/ssd_mobilenet_face_epoch_19_loss0.1197.h5\n",
            "Epoch 20/100\n",
            "lr remains 0.0019000000320374966\n",
            "4/4 [==============================] - 14s 4s/step - loss: 0.1031 - val_loss: 0.1195\n",
            "\n",
            "Epoch 00020: val_loss improved from 0.11969 to 0.11950, saving model to ./models/ssd_mobilenet_face_epoch_20_loss0.1195.h5\n",
            "Epoch 21/100\n",
            "lr changed to 0.0018050000304356217\n",
            "4/4 [==============================] - 14s 4s/step - loss: 0.1022 - val_loss: 0.1194\n",
            "\n",
            "Epoch 00021: val_loss improved from 0.11950 to 0.11937, saving model to ./models/ssd_mobilenet_face_epoch_21_loss0.1194.h5\n",
            "Epoch 22/100\n",
            "lr remains 0.0018050000071525574\n",
            "4/4 [==============================] - 14s 4s/step - loss: 0.1021 - val_loss: 0.1194\n",
            "\n",
            "Epoch 00022: val_loss did not improve from 0.11937\n",
            "Epoch 23/100\n",
            "lr remains 0.0018050000071525574\n",
            "4/4 [==============================] - 14s 5s/step - loss: 0.1016 - val_loss: 0.1194\n",
            "\n",
            "Epoch 00023: val_loss did not improve from 0.11937\n",
            "Epoch 24/100\n",
            "lr remains 0.0018050000071525574\n",
            "4/4 [==============================] - 14s 5s/step - loss: 0.1036 - val_loss: 0.1194\n",
            "\n",
            "Epoch 00024: val_loss did not improve from 0.11937\n",
            "Epoch 25/100\n",
            "lr remains 0.0018050000071525574\n",
            "4/4 [==============================] - 14s 4s/step - loss: 0.1007 - val_loss: 0.1193\n",
            "\n",
            "Epoch 00025: val_loss improved from 0.11937 to 0.11934, saving model to ./models/ssd_mobilenet_face_epoch_25_loss0.1193.h5\n",
            "Epoch 26/100\n",
            "lr remains 0.0018050000071525574\n",
            "4/4 [==============================] - 15s 5s/step - loss: 0.1014 - val_loss: 0.1192\n",
            "\n",
            "Epoch 00026: val_loss improved from 0.11934 to 0.11923, saving model to ./models/ssd_mobilenet_face_epoch_26_loss0.1192.h5\n",
            "Epoch 27/100\n",
            "lr remains 0.0018050000071525574\n",
            "4/4 [==============================] - 14s 5s/step - loss: 0.1013 - val_loss: 0.1191\n",
            "\n",
            "Epoch 00027: val_loss improved from 0.11923 to 0.11915, saving model to ./models/ssd_mobilenet_face_epoch_27_loss0.1191.h5\n",
            "Epoch 28/100\n",
            "lr remains 0.0018050000071525574\n",
            "4/4 [==============================] - 14s 4s/step - loss: 0.1017 - val_loss: 0.1191\n",
            "\n",
            "Epoch 00028: val_loss improved from 0.11915 to 0.11910, saving model to ./models/ssd_mobilenet_face_epoch_28_loss0.1191.h5\n",
            "Epoch 29/100\n",
            "lr remains 0.0018050000071525574\n",
            "4/4 [==============================] - 14s 5s/step - loss: 0.1013 - val_loss: 0.1190\n",
            "\n",
            "Epoch 00029: val_loss improved from 0.11910 to 0.11896, saving model to ./models/ssd_mobilenet_face_epoch_29_loss0.1190.h5\n",
            "Epoch 30/100\n",
            "lr remains 0.0018050000071525574\n",
            "4/4 [==============================] - 14s 4s/step - loss: 0.1029 - val_loss: 0.1188\n",
            "\n",
            "Epoch 00030: val_loss improved from 0.11896 to 0.11882, saving model to ./models/ssd_mobilenet_face_epoch_30_loss0.1188.h5\n",
            "Epoch 31/100\n",
            "lr changed to 0.0017147500067949293\n",
            "4/4 [==============================] - 14s 4s/step - loss: 0.1002 - val_loss: 0.1187\n",
            "\n",
            "Epoch 00031: val_loss improved from 0.11882 to 0.11871, saving model to ./models/ssd_mobilenet_face_epoch_31_loss0.1187.h5\n",
            "Epoch 32/100\n",
            "lr remains 0.0017147499602288008\n",
            "4/4 [==============================] - 14s 4s/step - loss: 0.1022 - val_loss: 0.1187\n",
            "\n",
            "Epoch 00032: val_loss did not improve from 0.11871\n",
            "Epoch 33/100\n",
            "lr remains 0.0017147499602288008\n",
            "4/4 [==============================] - 14s 4s/step - loss: 0.1005 - val_loss: 0.1187\n",
            "\n",
            "Epoch 00033: val_loss improved from 0.11871 to 0.11869, saving model to ./models/ssd_mobilenet_face_epoch_33_loss0.1187.h5\n",
            "Epoch 34/100\n",
            "lr remains 0.0017147499602288008\n",
            "4/4 [==============================] - 14s 4s/step - loss: 0.1017 - val_loss: 0.1186\n",
            "\n",
            "Epoch 00034: val_loss improved from 0.11869 to 0.11858, saving model to ./models/ssd_mobilenet_face_epoch_34_loss0.1186.h5\n",
            "Epoch 35/100\n",
            "lr remains 0.0017147499602288008\n",
            "4/4 [==============================] - 14s 4s/step - loss: 0.1013 - val_loss: 0.1186\n",
            "\n",
            "Epoch 00035: val_loss did not improve from 0.11858\n",
            "Epoch 36/100\n",
            "lr remains 0.0017147499602288008\n",
            "4/4 [==============================] - 14s 4s/step - loss: 0.0999 - val_loss: 0.1187\n",
            "\n",
            "Epoch 00036: val_loss did not improve from 0.11858\n",
            "Epoch 37/100\n",
            "lr remains 0.0017147499602288008\n",
            "4/4 [==============================] - 14s 4s/step - loss: 0.1003 - val_loss: 0.1186\n",
            "\n",
            "Epoch 00037: val_loss did not improve from 0.11858\n",
            "Epoch 38/100\n",
            "lr remains 0.0017147499602288008\n",
            "4/4 [==============================] - 14s 4s/step - loss: 0.1009 - val_loss: 0.1186\n",
            "\n",
            "Epoch 00038: val_loss did not improve from 0.11858\n",
            "Epoch 39/100\n",
            "lr remains 0.0017147499602288008\n",
            "4/4 [==============================] - 14s 4s/step - loss: 0.0991 - val_loss: 0.1186\n",
            "\n",
            "Epoch 00039: val_loss did not improve from 0.11858\n",
            "Epoch 40/100\n",
            "lr remains 0.0017147499602288008\n",
            "4/4 [==============================] - 14s 4s/step - loss: 0.0986 - val_loss: 0.1185\n",
            "\n",
            "Epoch 00040: val_loss improved from 0.11858 to 0.11854, saving model to ./models/ssd_mobilenet_face_epoch_40_loss0.1185.h5\n",
            "Epoch 41/100\n",
            "lr changed to 0.0016290124622173607\n",
            "4/4 [==============================] - 14s 4s/step - loss: 0.0972 - val_loss: 0.1184\n",
            "\n",
            "Epoch 00041: val_loss improved from 0.11854 to 0.11843, saving model to ./models/ssd_mobilenet_face_epoch_41_loss0.1184.h5\n",
            "Epoch 42/100\n",
            "lr remains 0.0016290124040096998\n",
            "4/4 [==============================] - 14s 4s/step - loss: 0.1013 - val_loss: 0.1184\n",
            "\n",
            "Epoch 00042: val_loss improved from 0.11843 to 0.11836, saving model to ./models/ssd_mobilenet_face_epoch_42_loss0.1184.h5\n",
            "Epoch 43/100\n",
            "lr remains 0.0016290124040096998\n",
            "4/4 [==============================] - 14s 4s/step - loss: 0.0971 - val_loss: 0.1184\n",
            "\n",
            "Epoch 00043: val_loss did not improve from 0.11836\n",
            "Epoch 44/100\n",
            "lr remains 0.0016290124040096998\n",
            "4/4 [==============================] - 14s 5s/step - loss: 0.1038 - val_loss: 0.1184\n",
            "\n",
            "Epoch 00044: val_loss did not improve from 0.11836\n",
            "Epoch 45/100\n",
            "lr remains 0.0016290124040096998\n",
            "4/4 [==============================] - 14s 4s/step - loss: 0.0992 - val_loss: 0.1183\n",
            "\n",
            "Epoch 00045: val_loss improved from 0.11836 to 0.11833, saving model to ./models/ssd_mobilenet_face_epoch_45_loss0.1183.h5\n",
            "Epoch 46/100\n",
            "lr remains 0.0016290124040096998\n",
            "4/4 [==============================] - 14s 4s/step - loss: 0.1001 - val_loss: 0.1183\n",
            "\n",
            "Epoch 00046: val_loss improved from 0.11833 to 0.11829, saving model to ./models/ssd_mobilenet_face_epoch_46_loss0.1183.h5\n",
            "Epoch 47/100\n",
            "lr remains 0.0016290124040096998\n",
            "4/4 [==============================] - 14s 4s/step - loss: 0.1005 - val_loss: 0.1183\n",
            "\n",
            "Epoch 00047: val_loss improved from 0.11829 to 0.11828, saving model to ./models/ssd_mobilenet_face_epoch_47_loss0.1183.h5\n",
            "Epoch 48/100\n",
            "lr remains 0.0016290124040096998\n",
            "4/4 [==============================] - 14s 4s/step - loss: 0.1006 - val_loss: 0.1182\n",
            "\n",
            "Epoch 00048: val_loss improved from 0.11828 to 0.11822, saving model to ./models/ssd_mobilenet_face_epoch_48_loss0.1182.h5\n",
            "Epoch 49/100\n",
            "lr remains 0.0016290124040096998\n",
            "4/4 [==============================] - 14s 5s/step - loss: 0.0974 - val_loss: 0.1183\n",
            "\n",
            "Epoch 00049: val_loss did not improve from 0.11822\n",
            "Epoch 50/100\n",
            "lr remains 0.0016290124040096998\n",
            "4/4 [==============================] - 14s 4s/step - loss: 0.0995 - val_loss: 0.1182\n",
            "\n",
            "Epoch 00050: val_loss improved from 0.11822 to 0.11819, saving model to ./models/ssd_mobilenet_face_epoch_50_loss0.1182.h5\n",
            "Epoch 51/100\n",
            "lr changed to 0.0015475617838092148\n",
            "4/4 [==============================] - 14s 4s/step - loss: 0.1006 - val_loss: 0.1181\n",
            "\n",
            "Epoch 00051: val_loss improved from 0.11819 to 0.11808, saving model to ./models/ssd_mobilenet_face_epoch_51_loss0.1181.h5\n",
            "Epoch 52/100\n",
            "lr remains 0.001547561725601554\n",
            "4/4 [==============================] - 14s 4s/step - loss: 0.0992 - val_loss: 0.1180\n",
            "\n",
            "Epoch 00052: val_loss improved from 0.11808 to 0.11797, saving model to ./models/ssd_mobilenet_face_epoch_52_loss0.1180.h5\n",
            "Epoch 53/100\n",
            "lr remains 0.001547561725601554\n",
            "4/4 [==============================] - 14s 4s/step - loss: 0.1017 - val_loss: 0.1179\n",
            "\n",
            "Epoch 00053: val_loss improved from 0.11797 to 0.11791, saving model to ./models/ssd_mobilenet_face_epoch_53_loss0.1179.h5\n",
            "Epoch 54/100\n",
            "lr remains 0.001547561725601554\n",
            "4/4 [==============================] - 14s 4s/step - loss: 0.0988 - val_loss: 0.1179\n",
            "\n",
            "Epoch 00054: val_loss did not improve from 0.11791\n",
            "Epoch 55/100\n",
            "lr remains 0.001547561725601554\n",
            "4/4 [==============================] - 14s 4s/step - loss: 0.0996 - val_loss: 0.1178\n",
            "\n",
            "Epoch 00055: val_loss improved from 0.11791 to 0.11779, saving model to ./models/ssd_mobilenet_face_epoch_55_loss0.1178.h5\n",
            "Epoch 56/100\n",
            "lr remains 0.001547561725601554\n",
            "4/4 [==============================] - 14s 4s/step - loss: 0.0986 - val_loss: 0.1176\n",
            "\n",
            "Epoch 00056: val_loss improved from 0.11779 to 0.11762, saving model to ./models/ssd_mobilenet_face_epoch_56_loss0.1176.h5\n",
            "Epoch 57/100\n",
            "lr remains 0.001547561725601554\n",
            "4/4 [==============================] - 14s 4s/step - loss: 0.1008 - val_loss: 0.1174\n",
            "\n",
            "Epoch 00057: val_loss improved from 0.11762 to 0.11741, saving model to ./models/ssd_mobilenet_face_epoch_57_loss0.1174.h5\n",
            "Epoch 58/100\n",
            "lr remains 0.001547561725601554\n",
            "4/4 [==============================] - 14s 4s/step - loss: 0.1001 - val_loss: 0.1173\n",
            "\n",
            "Epoch 00058: val_loss improved from 0.11741 to 0.11731, saving model to ./models/ssd_mobilenet_face_epoch_58_loss0.1173.h5\n",
            "Epoch 59/100\n",
            "lr remains 0.001547561725601554\n",
            "4/4 [==============================] - 14s 4s/step - loss: 0.0984 - val_loss: 0.1171\n",
            "\n",
            "Epoch 00059: val_loss improved from 0.11731 to 0.11714, saving model to ./models/ssd_mobilenet_face_epoch_59_loss0.1171.h5\n",
            "Epoch 60/100\n",
            "lr remains 0.001547561725601554\n",
            "4/4 [==============================] - 14s 4s/step - loss: 0.0995 - val_loss: 0.1169\n",
            "\n",
            "Epoch 00060: val_loss improved from 0.11714 to 0.11694, saving model to ./models/ssd_mobilenet_face_epoch_60_loss0.1169.h5\n",
            "Epoch 61/100\n",
            "lr changed to 0.001470183639321476\n",
            "4/4 [==============================] - 14s 4s/step - loss: 0.1012 - val_loss: 0.1166\n",
            "\n",
            "Epoch 00061: val_loss improved from 0.11694 to 0.11661, saving model to ./models/ssd_mobilenet_face_epoch_61_loss0.1166.h5\n",
            "Epoch 62/100\n",
            "lr remains 0.0014701836043968797\n",
            "4/4 [==============================] - 14s 4s/step - loss: 0.1013 - val_loss: 0.1166\n",
            "\n",
            "Epoch 00062: val_loss improved from 0.11661 to 0.11657, saving model to ./models/ssd_mobilenet_face_epoch_62_loss0.1166.h5\n",
            "Epoch 63/100\n",
            "lr remains 0.0014701836043968797\n",
            "4/4 [==============================] - 14s 5s/step - loss: 0.0979 - val_loss: 0.1165\n",
            "\n",
            "Epoch 00063: val_loss improved from 0.11657 to 0.11649, saving model to ./models/ssd_mobilenet_face_epoch_63_loss0.1165.h5\n",
            "Epoch 64/100\n",
            "lr remains 0.0014701836043968797\n",
            "4/4 [==============================] - 14s 4s/step - loss: 0.0988 - val_loss: 0.1164\n",
            "\n",
            "Epoch 00064: val_loss improved from 0.11649 to 0.11635, saving model to ./models/ssd_mobilenet_face_epoch_64_loss0.1164.h5\n",
            "Epoch 65/100\n",
            "lr remains 0.0014701836043968797\n",
            "4/4 [==============================] - 14s 5s/step - loss: 0.0974 - val_loss: 0.1164\n",
            "\n",
            "Epoch 00065: val_loss did not improve from 0.11635\n",
            "Epoch 66/100\n",
            "lr remains 0.0014701836043968797\n",
            "4/4 [==============================] - 14s 4s/step - loss: 0.1015 - val_loss: 0.1164\n",
            "\n",
            "Epoch 00066: val_loss did not improve from 0.11635\n",
            "Epoch 67/100\n",
            "lr remains 0.0014701836043968797\n",
            "4/4 [==============================] - 14s 4s/step - loss: 0.0977 - val_loss: 0.1163\n",
            "\n",
            "Epoch 00067: val_loss improved from 0.11635 to 0.11633, saving model to ./models/ssd_mobilenet_face_epoch_67_loss0.1163.h5\n",
            "Epoch 68/100\n",
            "lr remains 0.0014701836043968797\n",
            "4/4 [==============================] - 14s 4s/step - loss: 0.0992 - val_loss: 0.1163\n",
            "\n",
            "Epoch 00068: val_loss improved from 0.11633 to 0.11629, saving model to ./models/ssd_mobilenet_face_epoch_68_loss0.1163.h5\n",
            "Epoch 69/100\n",
            "lr remains 0.0014701836043968797\n",
            "4/4 [==============================] - 14s 4s/step - loss: 0.0997 - val_loss: 0.1161\n",
            "\n",
            "Epoch 00069: val_loss improved from 0.11629 to 0.11613, saving model to ./models/ssd_mobilenet_face_epoch_69_loss0.1161.h5\n",
            "Epoch 70/100\n",
            "lr remains 0.0014701836043968797\n",
            "4/4 [==============================] - 14s 4s/step - loss: 0.0969 - val_loss: 0.1158\n",
            "\n",
            "Epoch 00070: val_loss improved from 0.11613 to 0.11584, saving model to ./models/ssd_mobilenet_face_epoch_70_loss0.1158.h5\n",
            "Epoch 71/100\n",
            "lr changed to 0.0013966744241770356\n",
            "4/4 [==============================] - 14s 4s/step - loss: 0.0998 - val_loss: 0.1158\n",
            "\n",
            "Epoch 00071: val_loss improved from 0.11584 to 0.11578, saving model to ./models/ssd_mobilenet_face_epoch_71_loss0.1158.h5\n",
            "Epoch 72/100\n",
            "lr remains 0.0013966744299978018\n",
            "4/4 [==============================] - 14s 4s/step - loss: 0.0981 - val_loss: 0.1155\n",
            "\n",
            "Epoch 00072: val_loss improved from 0.11578 to 0.11553, saving model to ./models/ssd_mobilenet_face_epoch_72_loss0.1155.h5\n",
            "Epoch 73/100\n",
            "lr remains 0.0013966744299978018\n",
            "4/4 [==============================] - 14s 4s/step - loss: 0.1000 - val_loss: 0.1153\n",
            "\n",
            "Epoch 00073: val_loss improved from 0.11553 to 0.11527, saving model to ./models/ssd_mobilenet_face_epoch_73_loss0.1153.h5\n",
            "Epoch 74/100\n",
            "lr remains 0.0013966744299978018\n",
            "4/4 [==============================] - 14s 4s/step - loss: 0.1007 - val_loss: 0.1152\n",
            "\n",
            "Epoch 00074: val_loss improved from 0.11527 to 0.11517, saving model to ./models/ssd_mobilenet_face_epoch_74_loss0.1152.h5\n",
            "Epoch 75/100\n",
            "lr remains 0.0013966744299978018\n",
            "4/4 [==============================] - 14s 4s/step - loss: 0.0965 - val_loss: 0.1149\n",
            "\n",
            "Epoch 00075: val_loss improved from 0.11517 to 0.11488, saving model to ./models/ssd_mobilenet_face_epoch_75_loss0.1149.h5\n",
            "Epoch 76/100\n",
            "lr remains 0.0013966744299978018\n",
            "4/4 [==============================] - 14s 4s/step - loss: 0.1001 - val_loss: 0.1146\n",
            "\n",
            "Epoch 00076: val_loss improved from 0.11488 to 0.11457, saving model to ./models/ssd_mobilenet_face_epoch_76_loss0.1146.h5\n",
            "Epoch 77/100\n",
            "lr remains 0.0013966744299978018\n",
            "4/4 [==============================] - 14s 4s/step - loss: 0.0968 - val_loss: 0.1146\n",
            "\n",
            "Epoch 00077: val_loss did not improve from 0.11457\n",
            "Epoch 78/100\n",
            "lr remains 0.0013966744299978018\n",
            "4/4 [==============================] - 13s 4s/step - loss: 0.0995 - val_loss: 0.1146\n",
            "\n",
            "Epoch 00078: val_loss did not improve from 0.11457\n",
            "Epoch 79/100\n",
            "lr remains 0.0013966744299978018\n",
            "4/4 [==============================] - 13s 4s/step - loss: 0.0978 - val_loss: 0.1142\n",
            "\n",
            "Epoch 00079: val_loss improved from 0.11457 to 0.11424, saving model to ./models/ssd_mobilenet_face_epoch_79_loss0.1142.h5\n",
            "Epoch 80/100\n",
            "lr remains 0.0013966744299978018\n",
            "4/4 [==============================] - 14s 4s/step - loss: 0.0978 - val_loss: 0.1141\n",
            "\n",
            "Epoch 00080: val_loss improved from 0.11424 to 0.11409, saving model to ./models/ssd_mobilenet_face_epoch_80_loss0.1141.h5\n",
            "Epoch 81/100\n",
            "lr changed to 0.0013268407084979117\n",
            "4/4 [==============================] - 14s 4s/step - loss: 0.0994 - val_loss: 0.1142\n",
            "\n",
            "Epoch 00081: val_loss did not improve from 0.11409\n",
            "Epoch 82/100\n",
            "lr remains 0.0013268407201394439\n",
            "4/4 [==============================] - 14s 4s/step - loss: 0.0995 - val_loss: 0.1142\n",
            "\n",
            "Epoch 00082: val_loss did not improve from 0.11409\n",
            "Epoch 83/100\n",
            "lr remains 0.0013268407201394439\n",
            "4/4 [==============================] - 14s 4s/step - loss: 0.0987 - val_loss: 0.1140\n",
            "\n",
            "Epoch 00083: val_loss improved from 0.11409 to 0.11400, saving model to ./models/ssd_mobilenet_face_epoch_83_loss0.1140.h5\n",
            "Epoch 84/100\n",
            "lr remains 0.0013268407201394439\n",
            "4/4 [==============================] - 14s 4s/step - loss: 0.0985 - val_loss: 0.1139\n",
            "\n",
            "Epoch 00084: val_loss improved from 0.11400 to 0.11390, saving model to ./models/ssd_mobilenet_face_epoch_84_loss0.1139.h5\n",
            "Epoch 85/100\n",
            "lr remains 0.0013268407201394439\n",
            "4/4 [==============================] - 14s 5s/step - loss: 0.0957 - val_loss: 0.1137\n",
            "\n",
            "Epoch 00085: val_loss improved from 0.11390 to 0.11369, saving model to ./models/ssd_mobilenet_face_epoch_85_loss0.1137.h5\n",
            "Epoch 86/100\n",
            "lr remains 0.0013268407201394439\n",
            "4/4 [==============================] - 14s 4s/step - loss: 0.1004 - val_loss: 0.1134\n",
            "\n",
            "Epoch 00086: val_loss improved from 0.11369 to 0.11342, saving model to ./models/ssd_mobilenet_face_epoch_86_loss0.1134.h5\n",
            "Epoch 87/100\n",
            "lr remains 0.0013268407201394439\n",
            "4/4 [==============================] - 14s 5s/step - loss: 0.0975 - val_loss: 0.1133\n",
            "\n",
            "Epoch 00087: val_loss improved from 0.11342 to 0.11328, saving model to ./models/ssd_mobilenet_face_epoch_87_loss0.1133.h5\n",
            "Epoch 88/100\n",
            "lr remains 0.0013268407201394439\n",
            "4/4 [==============================] - 14s 4s/step - loss: 0.0954 - val_loss: 0.1132\n",
            "\n",
            "Epoch 00088: val_loss improved from 0.11328 to 0.11318, saving model to ./models/ssd_mobilenet_face_epoch_88_loss0.1132.h5\n",
            "Epoch 89/100\n",
            "lr remains 0.0013268407201394439\n",
            "4/4 [==============================] - 15s 5s/step - loss: 0.0987 - val_loss: 0.1130\n",
            "\n",
            "Epoch 00089: val_loss improved from 0.11318 to 0.11303, saving model to ./models/ssd_mobilenet_face_epoch_89_loss0.1130.h5\n",
            "Epoch 90/100\n",
            "lr remains 0.0013268407201394439\n",
            "4/4 [==============================] - 14s 4s/step - loss: 0.0960 - val_loss: 0.1131\n",
            "\n",
            "Epoch 00090: val_loss did not improve from 0.11303\n",
            "Epoch 91/100\n",
            "lr changed to 0.0012604986841324717\n",
            "4/4 [==============================] - 14s 4s/step - loss: 0.0959 - val_loss: 0.1130\n",
            "\n",
            "Epoch 00091: val_loss improved from 0.11303 to 0.11302, saving model to ./models/ssd_mobilenet_face_epoch_91_loss0.1130.h5\n",
            "Epoch 92/100\n",
            "lr remains 0.0012604986550286412\n",
            "4/4 [==============================] - 14s 4s/step - loss: 0.0968 - val_loss: 0.1129\n",
            "\n",
            "Epoch 00092: val_loss improved from 0.11302 to 0.11291, saving model to ./models/ssd_mobilenet_face_epoch_92_loss0.1129.h5\n",
            "Epoch 93/100\n",
            "lr remains 0.0012604986550286412\n",
            "4/4 [==============================] - 15s 5s/step - loss: 0.0983 - val_loss: 0.1126\n",
            "\n",
            "Epoch 00093: val_loss improved from 0.11291 to 0.11262, saving model to ./models/ssd_mobilenet_face_epoch_93_loss0.1126.h5\n",
            "Epoch 94/100\n",
            "lr remains 0.0012604986550286412\n",
            "4/4 [==============================] - 14s 4s/step - loss: 0.0995 - val_loss: 0.1124\n",
            "\n",
            "Epoch 00094: val_loss improved from 0.11262 to 0.11239, saving model to ./models/ssd_mobilenet_face_epoch_94_loss0.1124.h5\n",
            "Epoch 95/100\n",
            "lr remains 0.0012604986550286412\n",
            "4/4 [==============================] - 14s 4s/step - loss: 0.0955 - val_loss: 0.1122\n",
            "\n",
            "Epoch 00095: val_loss improved from 0.11239 to 0.11222, saving model to ./models/ssd_mobilenet_face_epoch_95_loss0.1122.h5\n",
            "Epoch 96/100\n",
            "lr remains 0.0012604986550286412\n",
            "4/4 [==============================] - 14s 4s/step - loss: 0.0956 - val_loss: 0.1120\n",
            "\n",
            "Epoch 00096: val_loss improved from 0.11222 to 0.11197, saving model to ./models/ssd_mobilenet_face_epoch_96_loss0.1120.h5\n",
            "Epoch 97/100\n",
            "lr remains 0.0012604986550286412\n",
            "4/4 [==============================] - 14s 4s/step - loss: 0.0965 - val_loss: 0.1117\n",
            "\n",
            "Epoch 00097: val_loss improved from 0.11197 to 0.11167, saving model to ./models/ssd_mobilenet_face_epoch_97_loss0.1117.h5\n",
            "Epoch 98/100\n",
            "lr remains 0.0012604986550286412\n",
            "4/4 [==============================] - 14s 4s/step - loss: 0.0981 - val_loss: 0.1117\n",
            "\n",
            "Epoch 00098: val_loss improved from 0.11167 to 0.11166, saving model to ./models/ssd_mobilenet_face_epoch_98_loss0.1117.h5\n",
            "Epoch 99/100\n",
            "lr remains 0.0012604986550286412\n",
            "4/4 [==============================] - 14s 4s/step - loss: 0.0977 - val_loss: 0.1117\n",
            "\n",
            "Epoch 00099: val_loss did not improve from 0.11166\n",
            "Epoch 100/100\n",
            "lr remains 0.0012604986550286412\n",
            "4/4 [==============================] - 14s 4s/step - loss: 0.0965 - val_loss: 0.1114\n",
            "\n",
            "Epoch 00100: val_loss improved from 0.11166 to 0.11145, saving model to ./models/ssd_mobilenet_face_epoch_100_loss0.1114.h5\n",
            "model and weight files saved at : ./models/\n"
          ],
          "name": "stdout"
        }
      ]
    },
    {
      "cell_type": "code",
      "metadata": {
        "colab": {
          "base_uri": "https://localhost:8080/"
        },
        "id": "4a5TXy7XzgpD",
        "outputId": "72c6bf44-c545-4526-c311-be2abc31eb8b"
      },
      "source": [
        "\n",
        "model_path = './models/'\n",
        "model_name = 'ssd_mobilenet_face_epoch_25_loss0.0916.h5'\n",
        "\n",
        "model.load_weights('./models/ssd_mobilenet_weights_epoch_100.h5',  by_name= True)\n",
        "\n",
        "print (colored('weights %s loaded' % (model_path + model_name), 'green'))\n",
        "\n",
        "def save_bb(path, filename, results, prediction=True):\n",
        "  \n",
        "  # print filename\n",
        "\n",
        "  img = image.load_img(filename, target_size=(img_height, img_width))\n",
        "  img = image.img_to_array(img)\n",
        "\n",
        "  filename = filename.split(\"/\")[-1]\n",
        "\n",
        "  if(not prediction):\n",
        "    filename = filename[:-4] + \"_gt\" + \".jpg\"\n",
        "\n",
        "  #fig,currentAxis = plt.subplots(1)\n",
        "  currentAxis = plt.gca()\n",
        "\n",
        " # Get detections with confidence higher than 0.6.\n",
        "  colors = plt.cm.hsv(np.linspace(0, 1, 25)).tolist()\n",
        "  color_code = min(len(results), 16)\n",
        "  print (colored(\"total number of bbs: %d\" % len(results), \"yellow\"))\n",
        "  for result in results:\n",
        "    # Parse the outputs.\n",
        "\n",
        "    if(prediction):\n",
        "      det_label = result[0]\n",
        "      det_conf = result[1]\n",
        "      det_xmin = result[2]\n",
        "      det_xmax = result[3]\n",
        "      det_ymin = result[4]\n",
        "      det_ymax = result[5]\n",
        "    else :\n",
        "      det_label = result[0]\n",
        "      det_xmin = result[1]\n",
        "      det_xmax = result[2]\n",
        "      det_ymin = result[3]\n",
        "      det_ymax = result[4]\n",
        "\n",
        "    xmin = int(det_xmin)\n",
        "    ymin = int(det_ymin)\n",
        "    xmax = int(det_xmax)\n",
        "    ymax = int(det_ymax)\n",
        "\n",
        "    if(prediction):\n",
        "      score = det_conf\n",
        "    \n",
        "    plt.imshow(img / 255.)\n",
        "    \n",
        "    label = int(int(det_label))\n",
        "    label_name = class_names[label]\n",
        "    # print label_name \n",
        "    # print label\n",
        "\n",
        "    if(prediction):\n",
        "      display_txt = '{:0.2f}'.format(score)\n",
        "    else:\n",
        "      display_txt = '{}'.format(label_name)\n",
        "\n",
        "      \n",
        "    # print (xmin, ymin, ymin, ymax)\n",
        "    coords = (xmin, ymin), (xmax-xmin), (ymax-ymin)\n",
        "    color_code = color_code-1 \n",
        "    color = colors[color_code]\n",
        "    currentAxis.add_patch(plt.Rectangle(*coords, fill=False, edgecolor=color, linewidth=2))\n",
        "    currentAxis.text(xmin, ymin, display_txt, bbox={'facecolor':color, 'alpha':0.2})\n",
        "\n",
        "  # y\n",
        "  currentAxis.axes.get_yaxis().set_visible(False)\n",
        "  # x \n",
        "  currentAxis.axes.get_xaxis().set_visible(False)\n",
        "  plt.savefig(path + filename, bbox_inches='tight')\n",
        "\n",
        "  print ('saved' , path + filename)\n",
        "\n",
        "  plt.clf()\n"
      ],
      "execution_count": 35,
      "outputs": [
        {
          "output_type": "stream",
          "text": [
            "\u001b[32mweights ./models/ssd_mobilenet_face_epoch_25_loss0.0916.h5 loaded\u001b[0m\n"
          ],
          "name": "stdout"
        }
      ]
    },
    {
      "cell_type": "code",
      "metadata": {
        "id": "hBsNVGl-tRoY"
      },
      "source": [
        "!rm -r output_test"
      ],
      "execution_count": 36,
      "outputs": []
    },
    {
      "cell_type": "code",
      "metadata": {
        "id": "NjryGFK8uhyJ"
      },
      "source": [
        "mkdir output_test"
      ],
      "execution_count": 37,
      "outputs": []
    },
    {
      "cell_type": "code",
      "metadata": {
        "colab": {
          "base_uri": "https://localhost:8080/"
        },
        "id": "KMNY1K1H6GaW",
        "outputId": "ea773739-40f9-4f4a-c956-15f6c3c138db"
      },
      "source": [
        "from keras.preprocessing import image\n",
        "from matplotlib import pyplot as plt\n",
        "\n",
        "test_size = 10\n",
        "test_generator = val_dataset.generate(\n",
        "                 batch_size=test_size,\n",
        "                 train=False,\n",
        "                 ssd_box_encoder=ssd_box_encoder,\n",
        "                 equalize=False,\n",
        "                 brightness=False,\n",
        "                 flip=False,\n",
        "                 translate=False,\n",
        "                 scale=False,\n",
        "                 crop=False,\n",
        "                 #random_crop = (img_height,img_width,1,3), \n",
        "                 random_crop=False, \n",
        "                 resize=(img_height, img_width), \n",
        "                 #resize=False,\n",
        "                 gray=False,\n",
        "                 limit_boxes=True,\n",
        "                 include_thresh=0.4,\n",
        "                 diagnostics=False)\n",
        "\n",
        "print (colored(\"done.\", \"green\"))\n",
        "\n",
        "print (colored(\"now predicting...\", \"yellow\"))\n",
        "\n",
        "_CONF = 0.60 \n",
        "_IOU = 0.15\n",
        "\n",
        "for i in range(test_size):\n",
        "  X, y, filenames = next(test_generator)\n",
        "\n",
        "  y_pred = model.predict(X)\n",
        "\n",
        "\n",
        "  y_pred_decoded = decode_y2(y_pred,\n",
        "                             confidence_thresh=_CONF,\n",
        "                            iou_threshold=_IOU,\n",
        "                            top_k='all',\n",
        "                            input_coords=coords,\n",
        "                            normalize_coords=normalize_coords,\n",
        "                            img_height=img_height,\n",
        "                            img_width=img_width)\n",
        "\n",
        "\n",
        "  np.set_printoptions(suppress=True)\n",
        "\n",
        "  save_bb(\"./output_test/\", filenames[i], y_pred_decoded[i])\n",
        "  save_bb(\"./output_test/\", filenames[i], y[i], prediction=False)"
      ],
      "execution_count": 38,
      "outputs": [
        {
          "output_type": "stream",
          "text": [
            "\u001b[32mdone.\u001b[0m\n",
            "\u001b[33mnow predicting...\u001b[0m\n",
            "\u001b[33mtotal number of bbs: 2\u001b[0m\n",
            "saved ./output_test/34_Baseball_Baseball_34_608.jpg\n",
            "\u001b[33mtotal number of bbs: 1\u001b[0m\n",
            "saved ./output_test/34_Baseball_Baseball_34_608_gt.jpg\n",
            "\u001b[33mtotal number of bbs: 0\u001b[0m\n",
            "saved ./output_test/33_Running_Running_33_475.jpg\n",
            "\u001b[33mtotal number of bbs: 1\u001b[0m\n",
            "saved ./output_test/33_Running_Running_33_475_gt.jpg\n",
            "\u001b[33mtotal number of bbs: 0\u001b[0m\n",
            "saved ./output_test/35_Basketball_playingbasketball_35_417.jpg\n",
            "\u001b[33mtotal number of bbs: 16\u001b[0m\n",
            "saved ./output_test/35_Basketball_playingbasketball_35_417_gt.jpg\n",
            "\u001b[33mtotal number of bbs: 1\u001b[0m\n",
            "saved ./output_test/49_Greeting_peoplegreeting_49_589.jpg\n",
            "\u001b[33mtotal number of bbs: 1\u001b[0m\n",
            "saved ./output_test/49_Greeting_peoplegreeting_49_589_gt.jpg\n",
            "\u001b[33mtotal number of bbs: 3\u001b[0m\n",
            "saved ./output_test/2_Demonstration_Demonstration_Or_Protest_2_306.jpg\n",
            "\u001b[33mtotal number of bbs: 10\u001b[0m\n",
            "saved ./output_test/2_Demonstration_Demonstration_Or_Protest_2_306_gt.jpg\n",
            "\u001b[33mtotal number of bbs: 1\u001b[0m\n",
            "saved ./output_test/33_Running_Running_33_209.jpg\n",
            "\u001b[33mtotal number of bbs: 1\u001b[0m\n",
            "saved ./output_test/33_Running_Running_33_209_gt.jpg\n",
            "\u001b[33mtotal number of bbs: 1\u001b[0m\n",
            "saved ./output_test/51_Dresses_wearingdress_51_113.jpg\n",
            "\u001b[33mtotal number of bbs: 1\u001b[0m\n",
            "saved ./output_test/51_Dresses_wearingdress_51_113_gt.jpg\n",
            "\u001b[33mtotal number of bbs: 1\u001b[0m\n",
            "saved ./output_test/47_Matador_Bullfighter_Matador_Bullfighter_47_617.jpg\n",
            "\u001b[33mtotal number of bbs: 1\u001b[0m\n",
            "saved ./output_test/47_Matador_Bullfighter_Matador_Bullfighter_47_617_gt.jpg\n",
            "\u001b[33mtotal number of bbs: 2\u001b[0m\n",
            "saved ./output_test/49_Greeting_peoplegreeting_49_50.jpg\n",
            "\u001b[33mtotal number of bbs: 3\u001b[0m\n",
            "saved ./output_test/49_Greeting_peoplegreeting_49_50_gt.jpg\n",
            "\u001b[33mtotal number of bbs: 0\u001b[0m\n",
            "saved ./output_test/33_Running_Running_33_475.jpg\n",
            "\u001b[33mtotal number of bbs: 1\u001b[0m\n",
            "saved ./output_test/33_Running_Running_33_475_gt.jpg\n"
          ],
          "name": "stdout"
        }
      ]
    },
    {
      "cell_type": "code",
      "metadata": {
        "id": "-s68Hsg8tvXI"
      },
      "source": [
        ""
      ],
      "execution_count": null,
      "outputs": []
    }
  ]
}